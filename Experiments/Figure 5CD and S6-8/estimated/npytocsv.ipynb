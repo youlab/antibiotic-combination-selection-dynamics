{
 "cells": [
  {
   "cell_type": "code",
   "execution_count": 1,
   "metadata": {},
   "outputs": [],
   "source": [
    "import numpy as np\n",
    "import pandas as pd\n",
    "for i in range(10):\n",
    "    params = np.load('scipy_all_para_v14_' + str(i) + '.npy')\n",
    "    paramsdf = pd.DataFrame(params)\n",
    "    paramsdf.to_csv(\"params_v14_\" + str(i) + \".csv\")\n",
    "\n",
    "    guesses = np.load('scipy_initials_v14_' + str(i) + \".npy\")\n",
    "    guessesdf = pd.DataFrame(guesses)\n",
    "    guessesdf.to_csv(\"guesses_v14_\" + str(i) + \".csv\")"
   ]
  },
  {
   "cell_type": "code",
   "execution_count": 2,
   "metadata": {},
   "outputs": [],
   "source": [
    "import numpy as np\n",
    "import pandas as pd\n",
    "for i in range(10):\n",
    "    params = np.load('scipy_growthrates_v2_' + str(i) + '.npy')\n",
    "    paramsdf = pd.DataFrame(params)\n",
    "    paramsdf.to_csv(\"growthrates_v2_\" + str(i) + \".csv\")\n",
    "\n",
    "    guesses = np.load('scipy_growthrateinitials_v2_' + str(i) + \".npy\")\n",
    "    guessesdf = pd.DataFrame(guesses)\n",
    "    guessesdf.to_csv(\"growthrateguesses_v2_\" + str(i) + \".csv\")"
   ]
  }
 ],
 "metadata": {
  "kernelspec": {
   "display_name": "GPU",
   "language": "python",
   "name": "python3"
  },
  "language_info": {
   "codemirror_mode": {
    "name": "ipython",
    "version": 3
   },
   "file_extension": ".py",
   "mimetype": "text/x-python",
   "name": "python",
   "nbconvert_exporter": "python",
   "pygments_lexer": "ipython3",
   "version": "3.10.12"
  },
  "orig_nbformat": 4
 },
 "nbformat": 4,
 "nbformat_minor": 2
}
