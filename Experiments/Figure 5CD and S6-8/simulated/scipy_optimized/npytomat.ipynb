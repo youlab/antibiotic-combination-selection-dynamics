{
 "cells": [
  {
   "cell_type": "code",
   "execution_count": null,
   "metadata": {},
   "outputs": [],
   "source": [
    "import numpy as np\n",
    "import scipy\n",
    "\n",
    "fullsimulated = np.load('v14_allsimulations.npy')\n",
    "simulatedfromavg = np.load('v14_avgsimulated.npy')\n",
    "experimental = np.load('../../isolates/avg_OD_all_isolates.npy')\n",
    "mdic = {\"fullsimulated\": fullsimulated, \"simulatedfromavg\": simulatedfromavg, \"experimental\": experimental}\n",
    "scipy.io.savemat(\"simulateddata14.mat\", mdic)"
   ]
  }
 ],
 "metadata": {
  "kernelspec": {
   "display_name": "GPU",
   "language": "python",
   "name": "python3"
  },
  "language_info": {
   "codemirror_mode": {
    "name": "ipython",
    "version": 3
   },
   "file_extension": ".py",
   "mimetype": "text/x-python",
   "name": "python",
   "nbconvert_exporter": "python",
   "pygments_lexer": "ipython3",
   "version": "3.10.12"
  },
  "orig_nbformat": 4
 },
 "nbformat": 4,
 "nbformat_minor": 2
}
